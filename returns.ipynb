#Previousclose
prev_close=close.shift(1)

#Daily_ret
#Daily_ret=(Prev_close-close)/close
Daily_ret=(prev_close-close)/close

Daily_ret
mpl.plot(date,Daily_ret)
