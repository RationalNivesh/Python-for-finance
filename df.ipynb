#df
df=pd.read_excel('nifty2705.xlsx')
close=df.Close
date=df.Date
df
mpl.plot(date,close)
