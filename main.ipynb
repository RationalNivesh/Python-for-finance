#Imports
import numpy as np
import matplotlib.pyplot as mpl
import pandas as pd

#df
df=pd.read_excel('nifty2705.xlsx')
close=df.Close
date=df.Date
df
mpl.plot(date,close)

#Returns #Dailyreturns
prev_close=close.shift(1)
#Daily_ret=(Prev_close-close)/close
Daily_ret=(prev_close-close)/close

Daily_ret
mpl.plot(date,Daily_ret)

#Ma
ma=df['Close'].to_frame

ma
