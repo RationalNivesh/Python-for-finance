ma=df['Close'].to_frame

ma
